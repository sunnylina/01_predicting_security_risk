{
 "cells": [
  {
   "cell_type": "code",
   "execution_count": 1,
   "id": "initial_id",
   "metadata": {
    "collapsed": true,
    "ExecuteTime": {
     "end_time": "2023-09-19T12:12:05.730543Z",
     "start_time": "2023-09-19T12:12:01.567163Z"
    }
   },
   "outputs": [],
   "source": [
    "import pandas as pd"
   ]
  },
  {
   "cell_type": "code",
   "execution_count": 2,
   "outputs": [],
   "source": [
    "train = pd.read_csv('../01_data/train.csv')\n",
    "test = pd.read_csv('../01_data/test.csv')"
   ],
   "metadata": {
    "collapsed": false,
    "ExecuteTime": {
     "end_time": "2023-09-19T12:13:03.288909Z",
     "start_time": "2023-09-19T12:12:56.733510Z"
    }
   },
   "id": "901bd416e3965c5c"
  },
  {
   "cell_type": "code",
   "execution_count": 3,
   "outputs": [
    {
     "data": {
      "text/plain": "            id  level                                           full_log\n0            0      0  Sep 24 10:02:22 localhost kibana: {\"type\":\"err...\n1            1      0  Feb  8 16:21:00 localhost logstash: [2021-02-0...\n2            2      0  Jan 13 01:50:40 localhost kibana: {\"type\":\"err...\n3            3      0  Jan  4 10:18:31 localhost kibana: {\"type\":\"err...\n4            4      1  type=SYSCALL msg=audit(1603094402.016:52981): ...\n...        ...    ...                                                ...\n472967  472967      0  Feb 28 10:10:06 localhost logstash: 7738   error:\n472968  472968      1  type=SYSCALL msg=audit(1611890993.458:321827):...\n472969  472969      0  Oct 12 02:20:29 localhost kibana: {\"type\":\"log...\n472970  472970      0  Jan 15 09:02:43 localhost kibana: {\"type\":\"err...\n472971  472971      0  Oct 12 04:27:47 localhost kibana: {\"type\":\"err...\n\n[472972 rows x 3 columns]",
      "text/html": "<div>\n<style scoped>\n    .dataframe tbody tr th:only-of-type {\n        vertical-align: middle;\n    }\n\n    .dataframe tbody tr th {\n        vertical-align: top;\n    }\n\n    .dataframe thead th {\n        text-align: right;\n    }\n</style>\n<table border=\"1\" class=\"dataframe\">\n  <thead>\n    <tr style=\"text-align: right;\">\n      <th></th>\n      <th>id</th>\n      <th>level</th>\n      <th>full_log</th>\n    </tr>\n  </thead>\n  <tbody>\n    <tr>\n      <th>0</th>\n      <td>0</td>\n      <td>0</td>\n      <td>Sep 24 10:02:22 localhost kibana: {\"type\":\"err...</td>\n    </tr>\n    <tr>\n      <th>1</th>\n      <td>1</td>\n      <td>0</td>\n      <td>Feb  8 16:21:00 localhost logstash: [2021-02-0...</td>\n    </tr>\n    <tr>\n      <th>2</th>\n      <td>2</td>\n      <td>0</td>\n      <td>Jan 13 01:50:40 localhost kibana: {\"type\":\"err...</td>\n    </tr>\n    <tr>\n      <th>3</th>\n      <td>3</td>\n      <td>0</td>\n      <td>Jan  4 10:18:31 localhost kibana: {\"type\":\"err...</td>\n    </tr>\n    <tr>\n      <th>4</th>\n      <td>4</td>\n      <td>1</td>\n      <td>type=SYSCALL msg=audit(1603094402.016:52981): ...</td>\n    </tr>\n    <tr>\n      <th>...</th>\n      <td>...</td>\n      <td>...</td>\n      <td>...</td>\n    </tr>\n    <tr>\n      <th>472967</th>\n      <td>472967</td>\n      <td>0</td>\n      <td>Feb 28 10:10:06 localhost logstash: 7738   error:</td>\n    </tr>\n    <tr>\n      <th>472968</th>\n      <td>472968</td>\n      <td>1</td>\n      <td>type=SYSCALL msg=audit(1611890993.458:321827):...</td>\n    </tr>\n    <tr>\n      <th>472969</th>\n      <td>472969</td>\n      <td>0</td>\n      <td>Oct 12 02:20:29 localhost kibana: {\"type\":\"log...</td>\n    </tr>\n    <tr>\n      <th>472970</th>\n      <td>472970</td>\n      <td>0</td>\n      <td>Jan 15 09:02:43 localhost kibana: {\"type\":\"err...</td>\n    </tr>\n    <tr>\n      <th>472971</th>\n      <td>472971</td>\n      <td>0</td>\n      <td>Oct 12 04:27:47 localhost kibana: {\"type\":\"err...</td>\n    </tr>\n  </tbody>\n</table>\n<p>472972 rows × 3 columns</p>\n</div>"
     },
     "execution_count": 3,
     "metadata": {},
     "output_type": "execute_result"
    }
   ],
   "source": [
    "train"
   ],
   "metadata": {
    "collapsed": false,
    "ExecuteTime": {
     "end_time": "2023-09-19T12:13:03.309590Z",
     "start_time": "2023-09-19T12:13:03.291082Z"
    }
   },
   "id": "99c92fb3c5c423df"
  },
  {
   "cell_type": "code",
   "execution_count": 4,
   "outputs": [
    {
     "data": {
      "text/plain": "              id                                           full_log\n0        1000000  Feb  8 15:47:26 localhost kibana: {\"type\":\"err...\n1        1000001  Sep 24 03:46:39 localhost kibana: {\"type\":\"err...\n2        1000002  type=SYSCALL msg=audit(1611888200.428:210563):...\n3        1000003  Jan 18 11:24:06 localhost kibana: {\"type\":\"err...\n4        1000004  type=SYSCALL msg=audit(1603081202.050:46851): ...\n...          ...                                                ...\n1418911  2418911  Jan 13 05:07:11 localhost kibana: {\"type\":\"err...\n1418912  2418912  Jan  5 02:24:50 localhost kibana: {\"type\":\"log...\n1418913  2418913  type=SYSCALL msg=audit(1611884593.462:38222): ...\n1418914  2418914  Jan 22 01:38:19 localhost logstash: [2021-01-2...\n1418915  2418915  Sep 24 09:48:22 localhost kibana: {\"type\":\"err...\n\n[1418916 rows x 2 columns]",
      "text/html": "<div>\n<style scoped>\n    .dataframe tbody tr th:only-of-type {\n        vertical-align: middle;\n    }\n\n    .dataframe tbody tr th {\n        vertical-align: top;\n    }\n\n    .dataframe thead th {\n        text-align: right;\n    }\n</style>\n<table border=\"1\" class=\"dataframe\">\n  <thead>\n    <tr style=\"text-align: right;\">\n      <th></th>\n      <th>id</th>\n      <th>full_log</th>\n    </tr>\n  </thead>\n  <tbody>\n    <tr>\n      <th>0</th>\n      <td>1000000</td>\n      <td>Feb  8 15:47:26 localhost kibana: {\"type\":\"err...</td>\n    </tr>\n    <tr>\n      <th>1</th>\n      <td>1000001</td>\n      <td>Sep 24 03:46:39 localhost kibana: {\"type\":\"err...</td>\n    </tr>\n    <tr>\n      <th>2</th>\n      <td>1000002</td>\n      <td>type=SYSCALL msg=audit(1611888200.428:210563):...</td>\n    </tr>\n    <tr>\n      <th>3</th>\n      <td>1000003</td>\n      <td>Jan 18 11:24:06 localhost kibana: {\"type\":\"err...</td>\n    </tr>\n    <tr>\n      <th>4</th>\n      <td>1000004</td>\n      <td>type=SYSCALL msg=audit(1603081202.050:46851): ...</td>\n    </tr>\n    <tr>\n      <th>...</th>\n      <td>...</td>\n      <td>...</td>\n    </tr>\n    <tr>\n      <th>1418911</th>\n      <td>2418911</td>\n      <td>Jan 13 05:07:11 localhost kibana: {\"type\":\"err...</td>\n    </tr>\n    <tr>\n      <th>1418912</th>\n      <td>2418912</td>\n      <td>Jan  5 02:24:50 localhost kibana: {\"type\":\"log...</td>\n    </tr>\n    <tr>\n      <th>1418913</th>\n      <td>2418913</td>\n      <td>type=SYSCALL msg=audit(1611884593.462:38222): ...</td>\n    </tr>\n    <tr>\n      <th>1418914</th>\n      <td>2418914</td>\n      <td>Jan 22 01:38:19 localhost logstash: [2021-01-2...</td>\n    </tr>\n    <tr>\n      <th>1418915</th>\n      <td>2418915</td>\n      <td>Sep 24 09:48:22 localhost kibana: {\"type\":\"err...</td>\n    </tr>\n  </tbody>\n</table>\n<p>1418916 rows × 2 columns</p>\n</div>"
     },
     "execution_count": 4,
     "metadata": {},
     "output_type": "execute_result"
    }
   ],
   "source": [
    "test"
   ],
   "metadata": {
    "collapsed": false,
    "ExecuteTime": {
     "end_time": "2023-09-19T12:13:03.998031Z",
     "start_time": "2023-09-19T12:13:03.991906Z"
    }
   },
   "id": "4ed517f4fe6ba6f"
  },
  {
   "cell_type": "code",
   "execution_count": null,
   "outputs": [],
   "source": [],
   "metadata": {
    "collapsed": false
   },
   "id": "1212229cd134df82"
  }
 ],
 "metadata": {
  "kernelspec": {
   "display_name": "Python 3",
   "language": "python",
   "name": "python3"
  },
  "language_info": {
   "codemirror_mode": {
    "name": "ipython",
    "version": 2
   },
   "file_extension": ".py",
   "mimetype": "text/x-python",
   "name": "python",
   "nbconvert_exporter": "python",
   "pygments_lexer": "ipython2",
   "version": "2.7.6"
  }
 },
 "nbformat": 4,
 "nbformat_minor": 5
}
